{
 "cells": [
  {
   "cell_type": "code",
   "execution_count": 1,
   "id": "fc32d2c6-c7ba-4c91-8315-749c2c673cf2",
   "metadata": {},
   "outputs": [],
   "source": [
    "import numpy as np"
   ]
  },
  {
   "cell_type": "markdown",
   "id": "3ab6d5b4-700c-469f-bcbd-a7376540ea78",
   "metadata": {},
   "source": [
    "#1"
   ]
  },
  {
   "cell_type": "code",
   "execution_count": 2,
   "id": "9ef057e1-9d34-44d2-911d-ebe5570ae7d1",
   "metadata": {},
   "outputs": [
    {
     "name": "stdout",
     "output_type": "stream",
     "text": [
      "[ 0 -1  2 -1  4 -1  6 -1  8 -1]\n"
     ]
    }
   ],
   "source": [
    "arr = np.array([0, 1, 2, 3, 4, 5, 6, 7, 8, 9])\n",
    "arr[arr % 2 != 0] = -1\n",
    "print(arr)"
   ]
  },
  {
   "cell_type": "markdown",
   "id": "5f573392-d1d1-457f-bdb2-928e16ce0291",
   "metadata": {},
   "source": [
    "#2"
   ]
  },
  {
   "cell_type": "code",
   "execution_count": 9,
   "id": "41e41592-debd-407b-99cc-cd0257a1204e",
   "metadata": {},
   "outputs": [
    {
     "name": "stdout",
     "output_type": "stream",
     "text": [
      "[[0 1 2 3 4]\n",
      " [5 6 7 8 9]]\n"
     ]
    }
   ],
   "source": [
    "arr = np.arange(10)\n",
    "arr_2d = arr.reshape(2, -1)\n",
    "print(arr_2d)"
   ]
  },
  {
   "cell_type": "markdown",
   "id": "f4c15cb9-6025-4ee6-ab4f-da730e456825",
   "metadata": {},
   "source": [
    "#3"
   ]
  },
  {
   "cell_type": "code",
   "execution_count": 10,
   "id": "a164b526-a994-41bb-97f1-20b6ed170d77",
   "metadata": {},
   "outputs": [
    {
     "name": "stdout",
     "output_type": "stream",
     "text": [
      "[[ 1  2  3]\n",
      " [ 4  5  6]\n",
      " [ 7  8  9]\n",
      " [10 11 12]]\n"
     ]
    }
   ],
   "source": [
    "a = np.array([[1, 2, 3], [4, 5, 6]])\n",
    "b = np.array([[7, 8, 9], [10, 11, 12]])\n",
    "vertical_stack = np.vstack((a, b))\n",
    "print(vertical_stack)"
   ]
  },
  {
   "cell_type": "markdown",
   "id": "aa810e78-3782-4c2f-8370-52fb43c632d3",
   "metadata": {},
   "source": [
    "#4"
   ]
  },
  {
   "cell_type": "code",
   "execution_count": 39,
   "id": "004122bd-2f40-4d9a-9546-b7244deb616d",
   "metadata": {},
   "outputs": [
    {
     "name": "stdout",
     "output_type": "stream",
     "text": [
      "[1 1 1 2 2 2 3 3 3 1 2 3 1 2 3 1 2 3]\n"
     ]
    }
   ],
   "source": [
    "a = np.array([1, 2, 3])\n",
    "n_repeats = len(a)\n",
    "repeated_elements= np.repeat(a, n_repeats)\n",
    "result = np.array(repeated_elements)\n",
    "for _ in range(n_repeats):\n",
    "    result = np.append(result,a)\n",
    "print(result)"
   ]
  },
  {
   "cell_type": "markdown",
   "id": "35d57915-9c35-4bb9-a351-92baee63d659",
   "metadata": {},
   "source": [
    "#5"
   ]
  },
  {
   "cell_type": "code",
   "execution_count": 40,
   "id": "bde11624-dbf8-4ce7-8079-b8a80e52dd51",
   "metadata": {},
   "outputs": [
    {
     "name": "stdout",
     "output_type": "stream",
     "text": [
      "[2 4]\n"
     ]
    }
   ],
   "source": [
    "a = np.array([1, 2, 3, 2, 3, 4, 3, 4, 5, 6])\n",
    "b = np.array([7, 2, 10, 2, 7, 4, 9, 4, 9, 8])\n",
    "common_elements = np.intersect1d(a, b)\n",
    "print(common_elements)"
   ]
  },
  {
   "cell_type": "markdown",
   "id": "8f78984b-4e0f-4ce1-a7fb-fdce09d2dd8a",
   "metadata": {},
   "source": [
    "#6"
   ]
  },
  {
   "cell_type": "code",
   "execution_count": 42,
   "id": "bd245c45-f50b-4d8a-b810-66a3edd97671",
   "metadata": {},
   "outputs": [
    {
     "name": "stdout",
     "output_type": "stream",
     "text": [
      "[ 3  7 10 15 18]\n"
     ]
    }
   ],
   "source": [
    "np.random.seed(100)\n",
    "a = np.random.uniform(1, 50, 20)\n",
    "sorted_indices = np.argsort(a)\n",
    "top_5_indices = sorted_indices[-5:]\n",
    "top_5_indices_sorted = np.sort(top_5_indices)\n",
    "print(top_5_indices_sorted)"
   ]
  },
  {
   "cell_type": "markdown",
   "id": "8d6ed7c4-138d-402f-b0d4-39549144b9be",
   "metadata": {},
   "source": [
    "#7"
   ]
  },
  {
   "cell_type": "code",
   "execution_count": 43,
   "id": "99278458-f26c-4a65-ab42-e401df40936a",
   "metadata": {},
   "outputs": [
    {
     "name": "stdout",
     "output_type": "stream",
     "text": [
      "[1. 2. 3. 5. 6. 7.]\n"
     ]
    }
   ],
   "source": [
    "a = np.array([1, 2, 3, np.nan, 5, 6, 7, np.nan])\n",
    "a_clean = a[~np.isnan(a)]\n",
    "print(a_clean)"
   ]
  },
  {
   "cell_type": "markdown",
   "id": "3fedc68e-2e1f-4fb3-bd95-cbd319277bcb",
   "metadata": {},
   "source": [
    "#8"
   ]
  },
  {
   "cell_type": "code",
   "execution_count": 44,
   "id": "a24a3235-5a18-4f13-b2ba-224b55921dea",
   "metadata": {},
   "outputs": [
    {
     "name": "stdout",
     "output_type": "stream",
     "text": [
      "6.708203932499369\n"
     ]
    }
   ],
   "source": [
    "a = np.array([1, 2, 3, 4, 5])\n",
    "b = np.array([4, 5, 6, 7, 8])\n",
    "distance = np.sqrt(np.sum((a - b) ** 2))\n",
    "print(distance)"
   ]
  },
  {
   "cell_type": "markdown",
   "id": "f75df4dc-c0a2-4243-9e19-762f2dbead38",
   "metadata": {},
   "source": [
    "#9"
   ]
  },
  {
   "cell_type": "code",
   "execution_count": 49,
   "id": "d19072a1-5563-46a1-a62c-a3006ad7edde",
   "metadata": {},
   "outputs": [
    {
     "name": "stdout",
     "output_type": "stream",
     "text": [
      "8\n"
     ]
    }
   ],
   "source": [
    "x = np.array([1, 2, 1, 1, 3, 4, 3, 1, 1, 2, 1, 1, 2])\n",
    "indices = np.where(x == 1)[0]\n",
    "if len(indices) >= 5:\n",
    "    fifth_occurrence_index = indices[4]\n",
    "    print(fifth_occurrence_index)"
   ]
  },
  {
   "cell_type": "markdown",
   "id": "1039b41d-c3d1-4a0e-a66f-9cf3ab3c6f7a",
   "metadata": {},
   "source": [
    "#10"
   ]
  },
  {
   "cell_type": "code",
   "execution_count": 51,
   "id": "4af47329-e6fd-4f5d-9e83-b0ec8bcdb711",
   "metadata": {},
   "outputs": [
    {
     "name": "stdout",
     "output_type": "stream",
     "text": [
      "[False False  True False False  True False  True  True  True]\n"
     ]
    }
   ],
   "source": [
    "a = np.random.randint(0, 5, 10)\n",
    "unique_elements, first_occurrence_indices = np.unique(a, return_index=True)\n",
    "result = np.zeros_like(a, dtype=bool)\n",
    "for idx in first_occurrence_indices:\n",
    "    result[a == a[idx]] = True\n",
    "    result[idx] = False\n",
    "print(result)"
   ]
  }
 ],
 "metadata": {
  "kernelspec": {
   "display_name": "Python 3 (ipykernel)",
   "language": "python",
   "name": "python3"
  },
  "language_info": {
   "codemirror_mode": {
    "name": "ipython",
    "version": 3
   },
   "file_extension": ".py",
   "mimetype": "text/x-python",
   "name": "python",
   "nbconvert_exporter": "python",
   "pygments_lexer": "ipython3",
   "version": "3.11.9"
  }
 },
 "nbformat": 4,
 "nbformat_minor": 5
}
