{
 "cells": [
  {
   "cell_type": "code",
   "execution_count": 2,
   "id": "8f2579cd-12b9-49a6-b58e-29fa5068881a",
   "metadata": {},
   "outputs": [],
   "source": [
    "import numpy as np"
   ]
  },
  {
   "cell_type": "markdown",
   "id": "ee643f16-f997-4a38-84bf-d9dab25a86f2",
   "metadata": {},
   "source": [
    "#1"
   ]
  },
  {
   "cell_type": "code",
   "execution_count": 4,
   "id": "578c7baf-f706-4965-937b-88dfd09af52d",
   "metadata": {},
   "outputs": [
    {
     "name": "stdout",
     "output_type": "stream",
     "text": [
      "[ 1  2  3  4  5  6  7  8  9 10]\n"
     ]
    }
   ],
   "source": [
    "vector = np.arange(1,11)\n",
    "print(vector)"
   ]
  },
  {
   "cell_type": "markdown",
   "id": "dd3c56d9-dee8-491e-9e12-8c94e7c8547e",
   "metadata": {},
   "source": [
    "#2\n"
   ]
  },
  {
   "cell_type": "code",
   "execution_count": 6,
   "id": "629f559f-9d70-4eb6-84b6-22b3f97a38e8",
   "metadata": {},
   "outputs": [
    {
     "name": "stdout",
     "output_type": "stream",
     "text": [
      "[[0. 0. 0.]\n",
      " [0. 0. 0.]\n",
      " [0. 0. 0.]]\n"
     ]
    }
   ],
   "source": [
    "matrix = np.zeros((3,3))\n",
    "print(matrix)"
   ]
  },
  {
   "cell_type": "markdown",
   "id": "180f130f-1c05-4f82-a7b5-bb91e10ded27",
   "metadata": {},
   "source": [
    "#3"
   ]
  },
  {
   "cell_type": "code",
   "execution_count": 12,
   "id": "de49b46d-d8e7-4a19-8f37-82b96ff8fec1",
   "metadata": {},
   "outputs": [
    {
     "name": "stdout",
     "output_type": "stream",
     "text": [
      "[[ 4  1  4  6  1]\n",
      " [ 3  4  9  2  4]\n",
      " [ 4  4  8  1  2]\n",
      " [10 10  1  5  8]\n",
      " [ 4  3  8  3  1]]\n"
     ]
    }
   ],
   "source": [
    "array_5x5 = np.random.randint(1, 11, size = (5, 5))\n",
    "print(array_5x5)"
   ]
  },
  {
   "cell_type": "markdown",
   "id": "cf349e6f-d159-40cc-b4c5-b887316f0075",
   "metadata": {},
   "source": [
    "#4"
   ]
  },
  {
   "cell_type": "code",
   "execution_count": 16,
   "id": "3fc6b92a-54de-4164-a6d9-dcc6e6c99ac6",
   "metadata": {},
   "outputs": [
    {
     "name": "stdout",
     "output_type": "stream",
     "text": [
      "[[1 1 1 1]\n",
      " [1 0 1 1]\n",
      " [0 0 1 0]\n",
      " [0 1 1 0]]\n"
     ]
    }
   ],
   "source": [
    "array_4x4 = np.random.randint(0,2, size = (4, 4))\n",
    "print(array_4x4)"
   ]
  },
  {
   "cell_type": "markdown",
   "id": "bc767a34-e09e-493a-a9e9-17de28b76878",
   "metadata": {},
   "source": [
    "#5"
   ]
  },
  {
   "cell_type": "code",
   "execution_count": 18,
   "id": "049293d9-024a-4d83-8246-eb36756a182d",
   "metadata": {},
   "outputs": [
    {
     "name": "stdout",
     "output_type": "stream",
     "text": [
      "[10  8 13 11 15]\n",
      "[ 0  0 -3 -1  3]\n",
      "[25 16 40 30 54]\n"
     ]
    }
   ],
   "source": [
    "vector_1 = np.random.randint(1, 11, size = (5, ))\n",
    "vector_2 = np.random.randint(1, 11, size = (5, ))\n",
    "print(vector_1 + vector_2)\n",
    "print(vector_1 - vector_2)\n",
    "print(vector_1 * vector_2)"
   ]
  },
  {
   "cell_type": "markdown",
   "id": "fca04130-4652-4652-aa0d-2aac179f44fd",
   "metadata": {},
   "source": [
    "#6"
   ]
  },
  {
   "cell_type": "code",
   "execution_count": 19,
   "id": "b9618c90-83d8-4d1c-8f89-cafcaea63d68",
   "metadata": {},
   "outputs": [
    {
     "name": "stdout",
     "output_type": "stream",
     "text": [
      "84\n"
     ]
    }
   ],
   "source": [
    "vector_1 = np.array([1, 2, 3, 4, 5, 6, 7])\n",
    "vector_2 = np.array([7, 6, 5, 4, 3, 2, 1])\n",
    "print(np.dot(vector_1,vector_2))"
   ]
  },
  {
   "cell_type": "markdown",
   "id": "a5c5cc1c-1c7b-459d-8e39-0d16e941ecd0",
   "metadata": {},
   "source": [
    "#7"
   ]
  },
  {
   "cell_type": "code",
   "execution_count": 23,
   "id": "4192418b-3795-4f2b-82f3-5c54997e2ce5",
   "metadata": {},
   "outputs": [
    {
     "name": "stdout",
     "output_type": "stream",
     "text": [
      "[[33 44 52]\n",
      " [39 52 62]]\n"
     ]
    }
   ],
   "source": [
    "matrix_1 = np.random.randint(1,11, size = (2,2))\n",
    "matrix_2 = np.random.randint(1,11, size = (2,3))\n",
    "print(np.dot(matrix_1,matrix_2))"
   ]
  },
  {
   "cell_type": "markdown",
   "id": "be4b77fa-7d99-48e5-925c-907d3b81b7e0",
   "metadata": {},
   "source": [
    "#8"
   ]
  },
  {
   "cell_type": "code",
   "execution_count": 29,
   "id": "7e30b15d-920a-4c55-9551-e0733342f83b",
   "metadata": {},
   "outputs": [
    {
     "name": "stdout",
     "output_type": "stream",
     "text": [
      "[[ 0.0921659  -0.17511521  0.11520737]\n",
      " [-0.28571429  0.14285714  0.14285714]\n",
      " [ 0.13364055  0.04608295 -0.08294931]]\n"
     ]
    }
   ],
   "source": [
    "matrix = np.random.randint(1,11, size = (3,3))\n",
    "print(np.linalg.inv(matrix))"
   ]
  },
  {
   "cell_type": "markdown",
   "id": "ed6d6cc8-18e3-4ecc-bc75-3adcf20d24fb",
   "metadata": {},
   "source": [
    "#9"
   ]
  },
  {
   "cell_type": "code",
   "execution_count": 32,
   "id": "99b95cfc-b1e2-4eff-85bd-5a3333dd4456",
   "metadata": {},
   "outputs": [
    {
     "name": "stdout",
     "output_type": "stream",
     "text": [
      "[[0 1 0 0]\n",
      " [0 0 0 0]\n",
      " [1 1 0 1]\n",
      " [0 1 1 1]]\n"
     ]
    }
   ],
   "source": [
    "matrix = np.random.randint(0,2, size = (4,4))\n",
    "print(matrix.T)"
   ]
  },
  {
   "cell_type": "markdown",
   "id": "3c4e50d7-32e8-4fe9-8162-bcaf4322df64",
   "metadata": {},
   "source": [
    "#10"
   ]
  },
  {
   "cell_type": "code",
   "execution_count": 36,
   "id": "8b7b4c90-0383-42b7-8bf4-487ee54d71a2",
   "metadata": {},
   "outputs": [
    {
     "name": "stdout",
     "output_type": "stream",
     "text": [
      "[[18 25 15  6]\n",
      " [20 20 24 24]\n",
      " [ 6 10  6 18]]\n"
     ]
    }
   ],
   "source": [
    "matrix = np.random.randint(1,11 , size = (3,4))\n",
    "vector = np.random.randint(1,11 , size = (4, ))\n",
    "print(matrix * vector)"
   ]
  },
  {
   "cell_type": "markdown",
   "id": "5416fe26-ce8d-4434-ad6d-788dacc447cb",
   "metadata": {},
   "source": [
    "#11"
   ]
  },
  {
   "cell_type": "code",
   "execution_count": 39,
   "id": "8ce45040-f479-4c24-9ada-18ea6a4a264f",
   "metadata": {},
   "outputs": [
    {
     "name": "stdout",
     "output_type": "stream",
     "text": [
      "[[0 1 1]\n",
      " [0 1 1]]\n"
     ]
    }
   ],
   "source": [
    "matrix = np.random.randint(0,2 , size = (2,3))\n",
    "vector = np.random.randint(0,2 , size = (3, ))\n",
    "print(matrix * vector)"
   ]
  },
  {
   "cell_type": "markdown",
   "id": "7c250e83-4176-4683-85c7-9079dcf9242a",
   "metadata": {},
   "source": [
    "#12"
   ]
  },
  {
   "cell_type": "code",
   "execution_count": 40,
   "id": "4ae8d405-9db1-4a1b-87e5-95c46a96a52e",
   "metadata": {},
   "outputs": [
    {
     "name": "stdout",
     "output_type": "stream",
     "text": [
      "[[20 30]\n",
      " [ 1 70]]\n"
     ]
    }
   ],
   "source": [
    "matrix_1 = np.random.randint(1,11 , size = (2,2))\n",
    "matrix_2 = np.random.randint(1,11 , size = (2,2))\n",
    "print(matrix_1 * matrix_2)"
   ]
  },
  {
   "cell_type": "markdown",
   "id": "144f0b18-1e55-4717-b8f7-dd5f1bc83363",
   "metadata": {},
   "source": [
    "#13"
   ]
  },
  {
   "cell_type": "code",
   "execution_count": 42,
   "id": "2c77a834-3b35-4ac1-8867-e8f9c5b827b5",
   "metadata": {},
   "outputs": [
    {
     "name": "stdout",
     "output_type": "stream",
     "text": [
      "[[ 66  73]\n",
      " [ 50 113]]\n"
     ]
    }
   ],
   "source": [
    "matrix_1 = np.random.randint(1,11 , size = (2,2))\n",
    "matrix_2 = np.random.randint(1,11 , size = (2,2))\n",
    "print(np.dot(matrix_1, matrix_2))"
   ]
  },
  {
   "cell_type": "markdown",
   "id": "7dd80c57-ecf9-430a-bbdb-e20455ab2b43",
   "metadata": {},
   "source": [
    "#14"
   ]
  },
  {
   "cell_type": "code",
   "execution_count": 45,
   "id": "727935a8-8702-46d7-b5fe-af4a64fde562",
   "metadata": {},
   "outputs": [
    {
     "name": "stdout",
     "output_type": "stream",
     "text": [
      "[296 289 215 203 242]\n"
     ]
    }
   ],
   "source": [
    "matrix = np.random.randint(1,101 , size = (5,5))\n",
    "print(sum(matrix))"
   ]
  },
  {
   "cell_type": "markdown",
   "id": "33e80bd4-9eca-455a-a1b7-78ddab153c91",
   "metadata": {},
   "source": [
    "#15"
   ]
  },
  {
   "cell_type": "code",
   "execution_count": 47,
   "id": "9c00495c-88bf-4d9e-b060-6b5deb00a08c",
   "metadata": {},
   "outputs": [
    {
     "name": "stdout",
     "output_type": "stream",
     "text": [
      "[[ 1  9 -2 -4]\n",
      " [-3 -1  1 -2]\n",
      " [ 2  4 -2  2]\n",
      " [-2  0  3  3]]\n"
     ]
    }
   ],
   "source": [
    "matrix_1 = np.random.randint(1,11 , size = (4,4))\n",
    "matrix_2 = np.random.randint(1,11 , size = (4,4))\n",
    "print(matrix_1 - matrix_2)"
   ]
  },
  {
   "cell_type": "markdown",
   "id": "9b314ac6-7d84-4ce8-8f1b-1ad5341df300",
   "metadata": {},
   "source": [
    "#16"
   ]
  },
  {
   "cell_type": "code",
   "execution_count": 65,
   "id": "11c17521-3d31-4736-9ff1-25299a509c9b",
   "metadata": {},
   "outputs": [
    {
     "name": "stdout",
     "output_type": "stream",
     "text": [
      "[[3]\n",
      " [1]\n",
      " [2]]\n"
     ]
    }
   ],
   "source": [
    "matrix = np.random.randint(0,2, size =(3, 3))\n",
    "row_sums = np.sum(matrix,axis = 1).reshape(-1,1)\n",
    "print(row_sums)"
   ]
  },
  {
   "cell_type": "markdown",
   "id": "068f16cd-b63b-4645-a278-c9e45e26df43",
   "metadata": {},
   "source": [
    "#17"
   ]
  },
  {
   "cell_type": "code",
   "execution_count": 66,
   "id": "bae04652-680d-40fd-b758-591835a706aa",
   "metadata": {},
   "outputs": [
    {
     "name": "stdout",
     "output_type": "stream",
     "text": [
      "[[ 9 25 36 16]\n",
      " [25 81 25 16]\n",
      " [ 4  0 16  4]]\n"
     ]
    }
   ],
   "source": [
    "matrix = np.random.randint(-10, 11, size=(3, 4))\n",
    "squared_matrix = np.power(matrix, 2)\n",
    "print(squared_matrix)\n"
   ]
  },
  {
   "cell_type": "markdown",
   "id": "802019d9-7170-462c-a1e3-8123ac25741c",
   "metadata": {},
   "source": [
    "#18"
   ]
  },
  {
   "cell_type": "code",
   "execution_count": 71,
   "id": "214ed6ef-c441-4c00-9b6a-57d0f476970b",
   "metadata": {},
   "outputs": [
    {
     "name": "stdout",
     "output_type": "stream",
     "text": [
      "[5.56776436 5.         2.         2.44948974]\n"
     ]
    }
   ],
   "source": [
    "vector = np.random.randint(1, 51, size=4)\n",
    "sqrt_vector = np.sqrt(vector)\n",
    "print(sqrt_vector)"
   ]
  }
 ],
 "metadata": {
  "kernelspec": {
   "display_name": "Python 3 (ipykernel)",
   "language": "python",
   "name": "python3"
  },
  "language_info": {
   "codemirror_mode": {
    "name": "ipython",
    "version": 3
   },
   "file_extension": ".py",
   "mimetype": "text/x-python",
   "name": "python",
   "nbconvert_exporter": "python",
   "pygments_lexer": "ipython3",
   "version": "3.11.9"
  }
 },
 "nbformat": 4,
 "nbformat_minor": 5
}
